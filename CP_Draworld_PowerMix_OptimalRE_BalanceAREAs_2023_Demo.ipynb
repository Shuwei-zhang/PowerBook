{
  "nbformat": 4,
  "nbformat_minor": 0,
  "metadata": {
    "colab": {
      "provenance": [],
      "authorship_tag": "ABX9TyPn6yQWtd7aoTCB86noGisr",
      "include_colab_link": true
    },
    "kernelspec": {
      "name": "python3",
      "display_name": "Python 3"
    },
    "language_info": {
      "name": "python"
    }
  },
  "cells": [
    {
      "cell_type": "markdown",
      "metadata": {
        "id": "view-in-github",
        "colab_type": "text"
      },
      "source": [
        "<a href=\"https://colab.research.google.com/github/Shuwei-zhang/PowerBook/blob/main/CP_Draworld_PowerMix_OptimalRE_BalanceAREAs_2023_Demo.ipynb\" target=\"_parent\"><img src=\"https://colab.research.google.com/assets/colab-badge.svg\" alt=\"Open In Colab\"/></a>"
      ]
    },
    {
      "cell_type": "markdown",
      "source": [
        "### **The Optimal Power Mix with the constraint of Deep Carbon Mitigation: a demo for China with one node per balance area (province generally)**\n",
        "\n",
        "Developed by @*DRAWORLD*, July-Dec 2023, contact@draworld.org\n",
        "\n",
        "Methodology frame，only for the illustration purpose\n",
        "\n",
        "\n",
        "The following project development will be based on this, but more complicated in term of the design of the Network.\n",
        "\n",
        "For the purpose of illustration of better coding, number and formual are NEVER hard-coded.\n",
        "For better understanding of the simpler model \"blackbox\", see a code+number mixed demo only for Zhejiang Province here:\n",
        "https://colab.research.google.com/drive/1-QzwK1mPQ8Gizzlg0lpeid1AcV5HDXz3\n",
        "\n",
        "\n",
        "Updates log:\n",
        "1. TBA\n"
      ],
      "metadata": {
        "id": "rR7FjW18Z-z3"
      }
    },
    {
      "cell_type": "code",
      "execution_count": null,
      "metadata": {
        "id": "6SHhiXfoZtzk"
      },
      "outputs": [],
      "source": [
        "# Install the Python Package needed for optimal power mix modeling. Scope: All Provinces, China solely.\n",
        "\n",
        "#! pip install git+https://github.com/snakemake/snakemake #using only for large amount of scenarios-building\n",
        "! pip install pandas\n",
        "! pip install geopandas\n",
        "! pip install matplotlib\n",
        "! pip install pypsa # power system model protype\n",
        "! pip install atlite\n",
        "! pip install seaborn\n",
        "! pip install xarray\n",
        "! pip install shapely\n",
        "! apt-get install -y -qq coinor-cbc # open source solver"
      ]
    },
    {
      "cell_type": "code",
      "source": [
        "# The input and output folder in Google Drive\n",
        "\n",
        "# input: /content/drive/MyDrive/Draworld_Cloud/WRI_Draworld/StylizedModel/Inputs/\n",
        "# source:\n",
        "#   Solar PV, https://www.renewables.ninja/, with Lat. 29.0000 and Lon. 120.0000 (Center of Zhejiang as representative), year 2019\n",
        "#   Wind, https://www.renewables.ninja/, with Lat 29.0000 and Lon 120.0000, year 2019, Vestas V90 2000\n",
        "#   Demand, https://www.ndrc.gov.cn/xxgk/zcfb/tz/201912/P020191230336066090861.pdf, year 2019\n",
        "\n",
        "# output: /content/drive/MyDrive/Draworld_Cloud/WRI_Draworld/StylizedModel/Outputs/\n",
        "\n",
        "from google.colab import drive\n",
        "drive.mount('/content/drive')\n",
        "\n",
        "#the unit conversion, to be cleaned.\n",
        "#EUR2RMB = 7.5\n",
        "#USD2RMB = 6.8\n",
        "\n",
        "#The Chinese graph settings\n",
        "import matplotlib.pyplot as plt\n",
        "from matplotlib.font_manager import FontProperties\n",
        "\n",
        "font_path = \"/content/drive/MyDrive/Notebooks/fonts/STHeitiTC-Medium-01.ttf\"\n",
        "CHN_prop = FontProperties(fname=font_path)\n",
        "\n",
        "# downloading the input files from Google Drive, the profile of demand and variable renewable\n",
        "!gdown 1zM8rLjlD_d8F_g2azj5em79ebNdVr6mb #solar\n",
        "!gdown 1-OBbrb2wOXAcsU6IaBDWWorg2fN-bNSu #wind\n",
        "!gdown 1PDt9a4FW-a9mIopjq4A1jmRB8tlagynA #demand\n",
        "\n",
        "import pandas as pd\n",
        "pv  = pd.read_csv('ninja_pv_29.0000_120.0000_BAs.csv')\n",
        "win = pd.read_csv('ninja_wind_29.0000_120.0000_BAs.csv')\n",
        "dem = pd.read_csv('load_NDRC_BAs_China_Draworld.csv')\n",
        "\n",
        "print(dem.head())\n",
        "#print(pv.head())\n",
        "#print(win['Zhejiang'])"
      ],
      "metadata": {
        "colab": {
          "base_uri": "https://localhost:8080/"
        },
        "id": "OulNUK-8a56f",
        "outputId": "2520e2f6-61a7-4339-9111-3ca24c29487b"
      },
      "execution_count": null,
      "outputs": [
        {
          "output_type": "stream",
          "name": "stdout",
          "text": [
            "Drive already mounted at /content/drive; to attempt to forcibly remount, call drive.mount(\"/content/drive\", force_remount=True).\n",
            "Downloading...\n",
            "From: https://drive.google.com/uc?id=1zM8rLjlD_d8F_g2azj5em79ebNdVr6mb\n",
            "To: /content/ninja_wind_29.0000_120.0000_BAs.csv\n",
            "100% 628k/628k [00:00<00:00, 100MB/s]\n",
            "Downloading...\n",
            "From: https://drive.google.com/uc?id=1-OBbrb2wOXAcsU6IaBDWWorg2fN-bNSu\n",
            "To: /content/ninja_pv_29.0000_120.0000_BAs.csv\n",
            "100% 612k/612k [00:00<00:00, 165MB/s]\n",
            "Downloading...\n",
            "From: https://drive.google.com/uc?id=1PDt9a4FW-a9mIopjq4A1jmRB8tlagynA\n",
            "To: /content/load_NDRC_BAs_China_Draworld.csv\n",
            "100% 619k/619k [00:00<00:00, 157MB/s]\n"
          ]
        }
      ]
    },
    {
      "cell_type": "code",
      "source": [
        "work_path = \"/content/drive/MyDrive/Draworld_Cloud/WRI-Draworld-StylizedModel/Inputs/\"\n",
        "\n",
        "# input the excel-based other parameter setttings\n",
        "ntcs = pd.read_excel(work_path + \"data.xlsx\",\n",
        "                     sheet_name=\"NTC\",\n",
        "                     index_col=0,\n",
        "                     skiprows=1,\n",
        "                     usecols=list(range(1,44)),\n",
        "                     dtype=str)\n",
        "\n",
        "costs = pd.read_excel(work_path + \"data.xlsx\",\n",
        "                     sheet_name=\"cost\",\n",
        "                     index_col=0,\n",
        "                     skiprows=1,\n",
        "                     usecols=list(range(0,9)),\n",
        "                     dtype=str\n",
        "                     )\n",
        "                     #skipfooter=8)\n",
        "\n",
        "costs = costs.fillna(0.)\n",
        "\n",
        "print(costs)"
      ],
      "metadata": {
        "colab": {
          "base_uri": "https://localhost:8080/"
        },
        "id": "0OO9OkQ6epXV",
        "outputId": "91bd8ebe-dbb4-4424-bebf-1066ad53ff28"
      },
      "execution_count": null,
      "outputs": [
        {
          "output_type": "stream",
          "name": "stdout",
          "text": [
            "              Technology type fixed cost variable cost capacity_extendable  \\\n",
            "onshore wind       generation        480            20                True   \n",
            "offshore wind      generation        720            20                True   \n",
            "solarPV            generation        420            20                True   \n",
            "hydro              generation        640            20                True   \n",
            "nuclear            generation       1010           120                True   \n",
            "Gas Cycle          generation        283   610.2605863                True   \n",
            "Gas Turbine        generation        260   760.3257329                True   \n",
            "coal               generation        380   337.1428571                True   \n",
            "Shed               generation          0         10000                True   \n",
            "PumpHydro             storage        485             0                True   \n",
            "Battery               storage        700             0                True   \n",
            "H2                    storage       1480             0                True   \n",
            "\n",
            "              efficiency conversion max_hours efficiency store  \\\n",
            "onshore wind                      1       0.0              0.0   \n",
            "offshore wind                     1       0.0              0.0   \n",
            "solarPV                           1       0.0              0.0   \n",
            "hydro                             1       0.0              0.0   \n",
            "nuclear                           1       0.0              0.0   \n",
            "Gas Cycle                       0.5       0.0              0.0   \n",
            "Gas Turbine                     0.4       0.0              0.0   \n",
            "coal                            0.4       0.0              0.0   \n",
            "Shed                              1       0.0              0.0   \n",
            "PumpHydro                       0.0        10              0.9   \n",
            "Battery                         0.0         4              0.9   \n",
            "H2                              0.0       500              0.7   \n",
            "\n",
            "              efficiency dispatch  \n",
            "onshore wind                  0.0  \n",
            "offshore wind                 0.0  \n",
            "solarPV                       0.0  \n",
            "hydro                         0.0  \n",
            "nuclear                       0.0  \n",
            "Gas Cycle                     0.0  \n",
            "Gas Turbine                   0.0  \n",
            "coal                          0.0  \n",
            "Shed                          0.0  \n",
            "PumpHydro                     0.7  \n",
            "Battery                       0.9  \n",
            "H2                            0.5  \n"
          ]
        }
      ]
    },
    {
      "cell_type": "code",
      "source": [
        "import pypsa, logging\n",
        "pypsa.pf.logger.setLevel(logging.WARNING)\n",
        "\n",
        "selected_year = 2019 # Only 2019 data available at present, by Draworld (April,2023).\n",
        "\n",
        "# Select demand, solar (PV) and wind profiles\n",
        "selected_dem = dem.loc[(pd.DatetimeIndex(dem['datetime']).year == selected_year)]\n",
        "selected_pv  = pv.loc[(pd.DatetimeIndex(pv['datetime']).year == selected_year) ]\n",
        "selected_win = win.loc[(pd.DatetimeIndex(win['datetime']).year == selected_year)]\n",
        "\n",
        "#dataflow.index. \"Time step\" or snapshots. Noting that \"\" meaning \"now\"， By Shuwei ZHANG, March.12, 2023\n",
        "n = pypsa.Network(snapshots = selected_dem.index,name = \"Draworld-Network-Annual Report-Demo\")"
      ],
      "metadata": {
        "id": "b3H0BnnTtBFE"
      },
      "execution_count": null,
      "outputs": []
    },
    {
      "cell_type": "code",
      "source": [
        "# set the energy carriers, only coal, gas, oil or as same to the Generation/Storage technology..\n",
        "# check n.madd in EuR model, 22 June 2023..\n",
        "\n"
      ],
      "metadata": {
        "id": "2ua4gjoQyCv3"
      },
      "execution_count": null,
      "outputs": []
    }
  ]
}